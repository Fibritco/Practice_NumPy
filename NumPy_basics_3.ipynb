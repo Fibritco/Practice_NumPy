{
 "cells": [
  {
   "cell_type": "code",
   "execution_count": 3,
   "id": "7d61fbc7",
   "metadata": {},
   "outputs": [
    {
     "name": "stdout",
     "output_type": "stream",
     "text": [
      "i   np.dtype =  int32\n",
      "u   nie ma?? =  !!\n",
      "c   np.dtype =  |S1\n",
      "f   np.dtype =  float32\n",
      "d   np.dtype =  float64\n",
      "b   np.dtype =  int8\n",
      "D   np.dtype =  complex128\n",
      "S   np.dtype =  |S0\n",
      "U   np.dtype =  <U0\n",
      "V   np.dtype =  |V0\n",
      "Konic :)\n"
     ]
    }
   ],
   "source": [
    "import numpy as np\n",
    "\n",
    "typy_danych_numpy = ['i', 'u', 'c', 'f', 'd', 'b', 'D', 'S', 'U', 'V']  # data types\n",
    "for i in typy_danych_numpy:\n",
    "    try:\n",
    "        print(f'{i}   np.dtype = ', np.dtype(i))\n",
    "    except TypeError:\n",
    "        print(f'{i}   nie ma?? =  !!')\n",
    "else:\n",
    "    print('Konic :)')"
   ]
  },
  {
   "cell_type": "code",
   "execution_count": 18,
   "id": "d42a520e",
   "metadata": {},
   "outputs": [
    {
     "name": "stdout",
     "output_type": "stream",
     "text": [
      "l\n",
      "<class 'numpy.int32'>\n",
      "\n",
      "d\n",
      "<class 'numpy.float64'>\n"
     ]
    }
   ],
   "source": [
    "arr = np.array([1, 2, 3, 4, 5])\n",
    "print(arr.dtype.char)\n",
    "print(arr.dtype.type)\n",
    "print()\n",
    "arr = np.array([1, 2, 3, 4, 5], dtype='float64')\n",
    "print(arr.dtype.char)\n",
    "print(arr.dtype.type)"
   ]
  },
  {
   "cell_type": "code",
   "execution_count": null,
   "id": "3573095d",
   "metadata": {},
   "outputs": [],
   "source": []
  }
 ],
 "metadata": {
  "kernelspec": {
   "display_name": "Python 3",
   "language": "python",
   "name": "python3"
  },
  "language_info": {
   "codemirror_mode": {
    "name": "ipython",
    "version": 3
   },
   "file_extension": ".py",
   "mimetype": "text/x-python",
   "name": "python",
   "nbconvert_exporter": "python",
   "pygments_lexer": "ipython3",
   "version": "3.8.8"
  }
 },
 "nbformat": 4,
 "nbformat_minor": 5
}
